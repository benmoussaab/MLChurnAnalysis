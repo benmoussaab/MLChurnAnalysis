{
 "cells": [
  {
   "cell_type": "code",
   "execution_count": null,
   "id": "f4a1913b-a515-4ccd-a7e8-23db8269f5a1",
   "metadata": {},
   "outputs": [],
   "source": [
    "import pandas as pd\n",
    "import numpy as np\n",
    "import matplotlib.pyplot as plt\n",
    "import sklearn as skl\n",
    "import seaborn as sns\n",
    "from IPython.display import display\n",
    "pd.set_option('display.max_columns', None)\n",
    "from sklearn.metrics import confusion_matrix,recall_score\n",
    "from sklearn.model_selection import train_test_split\n",
    "from sklearn.ensemble import GradientBoostingClassifier\n",
    "from sklearn.ensemble import RandomForestClassifier\n",
    "from sklearn.svm import SVC\n",
    "from sklearn.model_selection import GridSearchCV\n",
    "from sklearn.metrics import roc_auc_score\n",
    "\n"
   ]
  },
  {
   "cell_type": "code",
   "execution_count": null,
   "id": "e1de341c-d12a-421e-9b55-463b84e8becd",
   "metadata": {
    "scrolled": true
   },
   "outputs": [],
   "source": [
    "df=pd.read_csv(\"telecom_customer_churn.csv\")\n",
    "dic = pd.read_csv(\"telecom_data_dictionary.csv\", encoding='latin1')\n",
    "print(df.shape)\n",
    "df.head()\n"
   ]
  },
  {
   "cell_type": "code",
   "execution_count": null,
   "id": "0319442d-f993-4f47-91bb-f5c206875a28",
   "metadata": {
    "scrolled": true
   },
   "outputs": [],
   "source": [
    "for i in dic.index:\n",
    "    print(dic[\"Field\"][i])  \n",
    "    print(dic[\"Description\"][i])"
   ]
  },
  {
   "cell_type": "code",
   "execution_count": null,
   "id": "0d3cb60d-2cca-416e-9bba-6f6fea778cbf",
   "metadata": {},
   "outputs": [],
   "source": [
    "stat=df.groupby(\"Customer Status\").count().iloc[:,0:1]\n",
    "stat.columns = [\"distribution\"]\n",
    "display(stat)\n",
    "stat.plot(kind='bar', legend=False)\n",
    "plt.title('Customer Status Count')\n",
    "plt.xlabel('Customer Status')\n",
    "plt.ylabel('Count')\n",
    "plt.xticks(rotation=0)\n",
    "plt.show()"
   ]
  },
  {
   "cell_type": "markdown",
   "id": "fd484821-23d9-4fb9-8ad3-222227bec276",
   "metadata": {},
   "source": [
    "So we are dealing with an imbalanced dataset"
   ]
  },
  {
   "cell_type": "code",
   "execution_count": null,
   "id": "95bd22e0-965e-4c65-85d7-483373e259e9",
   "metadata": {},
   "outputs": [],
   "source": [
    "df.info()\n"
   ]
  },
  {
   "cell_type": "code",
   "execution_count": null,
   "id": "81d643bd-8047-418c-9d09-6ca92b2b15d7",
   "metadata": {},
   "outputs": [],
   "source": [
    "df = df[df['Customer Status'] != 'Joined']\n",
    "df['Customer Status'] = df['Customer Status'].map({'Churned': 1, 'Stayed': 0})\n"
   ]
  },
  {
   "cell_type": "markdown",
   "id": "98773c45-d8a1-45f2-a7f4-e57d132785a0",
   "metadata": {},
   "source": [
    "We dropped \"Joined\" because we are interesting only on \"churned\" or \"stayed\" customers"
   ]
  },
  {
   "cell_type": "code",
   "execution_count": null,
   "id": "814d0b35-46ee-45c9-96f9-77bcf21f99ae",
   "metadata": {},
   "outputs": [],
   "source": [
    "df= df.drop(columns=['Zip Code','City','Churn Category','Churn Reason','Latitude','Longitude','Customer ID'])\n"
   ]
  },
  {
   "cell_type": "code",
   "execution_count": null,
   "id": "8a3b2e9b-a6e6-43d0-b979-788d766a6504",
   "metadata": {},
   "outputs": [],
   "source": [
    "df['Offer'] = df['Offer'].fillna('no offer')\n",
    "df['Avg Monthly Long Distance Charges'] = df['Avg Monthly Long Distance Charges'].fillna(0)\n",
    "df['Internet Type'] = df['Internet Type'].fillna('no internet')\n",
    "df['Avg Monthly GB Download'] = df['Avg Monthly GB Download'].fillna(0)\n",
    "for c in [\"Multiple Lines\",\"Online Security\",\"Online Backup\",\"Device Protection Plan\",\"Premium Tech Support\",\"Streaming TV\",\"Streaming Movies\",\"Streaming Music\",\"Unlimited Data\"]:\n",
    "    df[c]=df[c].fillna('No')"
   ]
  },
  {
   "cell_type": "code",
   "execution_count": null,
   "id": "937ee58c-fd1f-4aa0-87e2-ea07a708e618",
   "metadata": {
    "scrolled": true
   },
   "outputs": [],
   "source": [
    "df.info()"
   ]
  },
  {
   "cell_type": "code",
   "execution_count": null,
   "id": "5d85a82c-58ef-4d3b-81fd-249c1342999f",
   "metadata": {},
   "outputs": [],
   "source": [
    "for i in df.columns:\n",
    "    churn_rate = df.groupby(i)['Customer Status'].apply(lambda x: (x == 1).mean() * 100)\n",
    "\n",
    "    total_customers = df.groupby(i).size()\n",
    "\n",
    "    import matplotlib.pyplot as plt\n",
    "\n",
    "    fig, ax1 = plt.subplots(figsize=(10, 6))\n",
    "\n",
    "    ax1.bar(total_customers.index, total_customers.values, color='lightblue', label='Total Customers')\n",
    "    ax1.set_xlabel(i)\n",
    "    ax1.set_ylabel('Total Customers', color='blue')\n",
    "    ax1.tick_params(axis='y', labelcolor='blue')\n",
    "\n",
    "    ax2 = ax1.twinx()\n",
    "    ax2.plot(churn_rate.index, churn_rate.values, color='red', label='Churn Rate', marker='o', linestyle='--')\n",
    "    ax2.set_ylabel('Churn Rate (%)', color='red')\n",
    "    ax2.tick_params(axis='y', labelcolor='red')\n",
    "\n",
    "    plt.title(f'Churn Rate and Total Customers by {i}')\n",
    "\n",
    "    ax1.legend(loc=\"upper left\")\n",
    "    ax2.legend(loc=\"upper right\")\n",
    "\n",
    "    plt.tight_layout()\n",
    "    plt.show()\n"
   ]
  },
  {
   "cell_type": "code",
   "execution_count": null,
   "id": "062091b8-04b9-4673-8955-d484a41cc0d0",
   "metadata": {},
   "outputs": [],
   "source": [
    "df= df.drop(columns=['Gender'])\n"
   ]
  },
  {
   "cell_type": "code",
   "execution_count": null,
   "id": "4722868f-09c0-474f-88d9-4d9b6798cd9a",
   "metadata": {},
   "outputs": [],
   "source": [
    "features = df.drop('Customer Status', axis=1).columns\n",
    "X = pd.get_dummies(df[features], drop_first=True,dtype=int)  # One-hot encode categorical variables\n",
    "y = df['Customer Status']"
   ]
  },
  {
   "cell_type": "code",
   "execution_count": null,
   "id": "327caeaf-21ec-407d-96bf-c46d0fca6909",
   "metadata": {},
   "outputs": [],
   "source": [
    "num_df = X.copy()  \n",
    "df_x_y = pd.concat([num_df, y], axis=1)\n",
    "correlation_matrix = df_x_y.corr()\n",
    "\n",
    "plt.figure(figsize=(25, 25))\n",
    "sns.heatmap(correlation_matrix, annot=True, cmap='coolwarm', fmt=\".2f\")\n",
    "plt.title('Correlation Heatmap')\n",
    "plt.show()"
   ]
  },
  {
   "cell_type": "code",
   "execution_count": null,
   "id": "b5167180-f95c-431a-a482-99973de9ebec",
   "metadata": {},
   "outputs": [],
   "source": [
    "num_df = X.copy() \n",
    "\n",
    "df_x_y = pd.concat([num_df, y], axis=1)\n",
    "\n",
    "correlation_matrix = df_x_y.corr()\n",
    "\n",
    "customer_status_corr = correlation_matrix.loc['Customer Status'].drop('Customer Status')  \n",
    "\n",
    "plt.figure(figsize=(25, 2))\n",
    "sns.heatmap(customer_status_corr.to_frame().T, annot=True, cmap='coolwarm', fmt=\".2f\", cbar_kws={'label': 'Correlation'})\n",
    "plt.title('Correlation of Customer Status with Other Features')\n",
    "\n",
    "plt.show()"
   ]
  },
  {
   "cell_type": "code",
   "execution_count": null,
   "id": "25109893-dfe9-422d-ad6b-4ead067c65ed",
   "metadata": {},
   "outputs": [],
   "source": [
    "df.describe()"
   ]
  },
  {
   "cell_type": "markdown",
   "id": "b97e51f0-88a4-44e7-910f-205669d59e1c",
   "metadata": {},
   "source": [
    "## ML with out scaling"
   ]
  },
  {
   "cell_type": "code",
   "execution_count": null,
   "id": "877f8ae1-7904-424e-bc98-da3d958351ac",
   "metadata": {},
   "outputs": [],
   "source": [
    "X_train, X_test, y_train, y_test = train_test_split(X, y, random_state=0)\n",
    "clf= GradientBoostingClassifier(random_state=0,max_depth=3)\n",
    "clf.fit(X_train, y_train)\n",
    "\n",
    "print('Accuracy on training set: {:.2f}'.format(clf.score(X_train, y_train)))\n",
    "print('Accuracy on test set: {:.2f}\\n'.format(clf.score(X_test, y_test)))\n",
    "\n",
    "cm = confusion_matrix(y_test, clf.predict(X_test))\n",
    "print(\"Confusion Matrix:\\n\", cm)\n",
    "\n",
    "recall = recall_score(y_test, clf.predict(X_test))\n",
    "print(f\"Recall: {recall:.2f}\")"
   ]
  },
  {
   "cell_type": "code",
   "execution_count": null,
   "id": "7f5bea4b-06a2-4591-98be-040e270b4585",
   "metadata": {},
   "outputs": [],
   "source": [
    "class_weights = {0: 1, 1: 2}  \n",
    "sample_weights = y_train.map(class_weights)\n",
    "clf_ = GradientBoostingClassifier(random_state=0)\n",
    "clf_.fit(X_train, y_train, sample_weight=sample_weights)\n",
    "\n",
    "print('Accuracy on training set: {:.2f}'.format(clf.score(X_train, y_train)))\n",
    "print('Accuracy on test set: {:.2f}\\n'.format(clf.score(X_test, y_test)))\n",
    "\n",
    "cm = confusion_matrix(y_test, clf_.predict(X_test))\n",
    "print(\"Confusion Matrix:\\n\", cm)\n",
    "\n",
    "recall = recall_score(y_test, clf_.predict(X_test))\n",
    "print(f\"Recall: {recall:.2f}\")"
   ]
  },
  {
   "cell_type": "code",
   "execution_count": null,
   "id": "1d49e09b-fabf-41a0-afa6-7e8fa58fb259",
   "metadata": {},
   "outputs": [],
   "source": [
    "class_weights = {0: 1, 1: 2} \n",
    "\n",
    "clf1 = RandomForestClassifier(random_state=0,class_weight='balanced')\n",
    "clf1.fit(X_train, y_train)\n",
    "\n",
    "print(\"Accuracy on training set: {:.2f}\".format(clf1.score(X_train, y_train)))\n",
    "print(\"Accuracy on test set: {:.2f}\".format(clf1.score(X_test, y_test)))\n",
    "\n",
    "cm = confusion_matrix(y_test, clf1.predict(X_test))\n",
    "print(\"Confusion Matrix:\\n\", cm)\n",
    "\n",
    "recall = recall_score(y_test, clf1.predict(X_test))\n",
    "print(f\"Recall: {recall:.2f}\")"
   ]
  },
  {
   "cell_type": "code",
   "execution_count": null,
   "id": "60bf4456-3bfa-432e-b448-fd6e791a2a4b",
   "metadata": {},
   "outputs": [],
   "source": []
  },
  {
   "cell_type": "code",
   "execution_count": null,
   "id": "e06ceb89-f9e8-44fa-88ef-d5a45cc96a2e",
   "metadata": {},
   "outputs": [],
   "source": [
    "from sklearn.linear_model import LogisticRegression\n",
    "\n",
    "clf2 = LogisticRegression(C=100).fit(X_train, y_train)\n",
    "print('Accuracy on training set: {:.2f}'.format(clf2.score(X_train, y_train)))\n",
    "print('Accuracy on test set: {:.2f}\\n'.format(clf2.score(X_test, y_test)))\n",
    "\n",
    "cm = confusion_matrix(y_test, clf2.predict(X_test))\n",
    "print(\"Confusion Matrix:\\n\", cm)\n",
    "\n",
    "recall = recall_score(y_test, clf2.predict(X_test))\n",
    "print(f\"Recall: {recall:.2f}\")"
   ]
  },
  {
   "cell_type": "markdown",
   "id": "2afbae85-4c1b-4c65-907e-c6e000f23d06",
   "metadata": {},
   "source": [
    "## ML using MinMaxScaler"
   ]
  },
  {
   "cell_type": "code",
   "execution_count": null,
   "id": "48f4fdb7-747c-4627-96c3-950a7a41b283",
   "metadata": {},
   "outputs": [],
   "source": [
    "from sklearn.preprocessing import MinMaxScaler\n",
    "from sklearn.neural_network import MLPClassifier\n",
    "\n",
    "\n",
    "scaler = MinMaxScaler()\n",
    "\n",
    "X_train_scaled = scaler.fit_transform(X_train)\n",
    "X_test_scaled = scaler.transform(X_test)\n",
    "\n",
    "clf3 = MLPClassifier(hidden_layer_sizes = [10,10,10], alpha = 5,\n",
    "                   random_state = 0, solver='lbfgs').fit(X_train_scaled, y_train)\n",
    "\n",
    "print('Accuracy on training set: {:.2f}'.format(clf3.score(X_train_scaled, y_train)))\n",
    "print('Accuracy on test set: {:.2f}\\n'.format(clf3.score(X_test_scaled, y_test)))\n",
    "\n",
    "cm = confusion_matrix(y_test, clf3.predict(X_test_scaled))\n",
    "print(\"Confusion Matrix:\\n\", cm)\n",
    "\n",
    "recall = recall_score(y_test, clf3.predict(X_test_scaled))\n",
    "print(f\"Recall: {recall:.2f}\")"
   ]
  },
  {
   "cell_type": "code",
   "execution_count": null,
   "id": "1265f5a1-9112-4f5c-8605-25ab9ab47a6d",
   "metadata": {},
   "outputs": [],
   "source": [
    "clf2_ = LogisticRegression(C=100).fit(X_train_scaled, y_train)\n",
    "print('Accuracy on training set: {:.2f}'.format(clf2_.score(X_train_scaled, y_train)))\n",
    "print('Accuracy on test set: {:.2f}\\n'.format(clf2_.score(X_test_scaled, y_test)))\n",
    "\n",
    "cm = confusion_matrix(y_test, clf2_.predict(X_test_scaled))\n",
    "print(\"Confusion Matrix:\\n\", cm)\n",
    "\n",
    "recall = recall_score(y_test, clf2_.predict(X_test_scaled))\n",
    "print(f\"Recall: {recall:.2f}\")"
   ]
  },
  {
   "cell_type": "code",
   "execution_count": null,
   "id": "71526fbe-cf99-41f1-86b8-ab826d2ff1c8",
   "metadata": {},
   "outputs": [],
   "source": [
    "from sklearn.svm import LinearSVC\n",
    "\n",
    "clf4 = LinearSVC().fit(X_train_scaled, y_train)\n",
    "print('Accuracy on training set: {:.2f}'.format(clf4.score(X_train_scaled, y_train)))\n",
    "print('Accuracy on test set: {:.2f}\\n'.format(clf4.score(X_test_scaled, y_test)))\n",
    "\n",
    "cm = confusion_matrix(y_test, clf4.predict(X_test_scaled))\n",
    "print(\"Confusion Matrix:\\n\", cm)\n",
    "\n",
    "recall = recall_score(y_test, clf4.predict(X_test_scaled))\n",
    "print(f\"Recall: {recall:.2f}\")"
   ]
  },
  {
   "cell_type": "code",
   "execution_count": null,
   "id": "cde06fba-341a-4999-bc49-875081dbea2e",
   "metadata": {},
   "outputs": [],
   "source": [
    "clf4 = SVC(kernel = 'poly').fit(X_train_scaled, y_train)\n",
    "print('Accuracy on training set: {:.2f}'.format(clf4.score(X_train_scaled, y_train)))\n",
    "print('Accuracy on test set: {:.2f}\\n'.format(clf4.score(X_test_scaled, y_test)))\n",
    "\n",
    "cm = confusion_matrix(y_test, clf4.predict(X_test_scaled))\n",
    "print(\"Confusion Matrix:\\n\", cm)\n",
    "\n",
    "recall = recall_score(y_test, clf4.predict(X_test_scaled))\n",
    "print(f\"Recall: {recall:.2f}\")"
   ]
  },
  {
   "cell_type": "code",
   "execution_count": null,
   "id": "104abd1d-82ee-4a13-b50d-d9e472222989",
   "metadata": {},
   "outputs": [],
   "source": []
  },
  {
   "cell_type": "code",
   "execution_count": null,
   "id": "16d357e2-4e30-4789-a8a1-627bb6686aae",
   "metadata": {},
   "outputs": [],
   "source": []
  }
 ],
 "metadata": {
  "kernelspec": {
   "display_name": "Python 3 (ipykernel)",
   "language": "python",
   "name": "python3"
  },
  "language_info": {
   "codemirror_mode": {
    "name": "ipython",
    "version": 3
   },
   "file_extension": ".py",
   "mimetype": "text/x-python",
   "name": "python",
   "nbconvert_exporter": "python",
   "pygments_lexer": "ipython3",
   "version": "3.12.5"
  }
 },
 "nbformat": 4,
 "nbformat_minor": 5
}
